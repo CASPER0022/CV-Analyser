#PART_A

# Install PyMuPDF which includes the fitz module
!pip install PyMuPDF

# Install PyMuPDF which includes the fitz module
!pip install PyMuPDF

def extract_text_from_pdf(file_path):
    doc = fitz.open(file_path)
    text = ""
    for page in doc:
        text += page.get_text()
    return text

SKILLS_DB = [
    # Programming Languages
    "python", "java", "c", "c++", "c#", "javascript", "typescript", "go", "ruby", "kotlin", "swift", "scala", "rust",
    
    # Web Development
    "html", "css", "javascript", "react", "angular", "vue", "node.js", "express.js", "next.js", "bootstrap", "tailwind css",
    
    # Backend & Frameworks
    "django", "flask", "spring", "fastapi", "laravel", ".net", "asp.net", "rails",

    # Databases
    "sql", "mysql", "postgresql", "oracle", "sqlite", "mongodb", "firebase", "redis", "cassandra", "dynamodb",

    # DevOps & Tools
    "git", "github", "bitbucket", "gitlab", "docker", "kubernetes", "jenkins", "ansible", "terraform", "ci/cd",

    # Operating Systems & Shell
    "linux", "bash", "unix", "windows", "powershell",

    # Cloud Platforms
    "aws", "azure", "google cloud", "gcp", "heroku", "netlify", "vercel", "digitalocean",

    # Data Science & ML
    "numpy", "pandas", "matplotlib", "seaborn", "scikit-learn", "tensorflow", "keras", "pytorch", "xgboost", "statsmodels",
    "openai", "huggingface", "langchain", "llm", "transformers", "cv2", "opencv", "nlp", "spacy", "gensim",

    # Data Engineering
    "hadoop", "spark", "hive", "pig", "airflow", "kafka", "databricks", "snowflake",

    # Tools & Editors
    "vscode", "pycharm", "intellij", "jupyter", "colab", "postman", "swagger",

    # APIs
    "rest", "graphql", "soap", "json", "xml",

    # Cybersecurity
    "nmap", "wireshark", "metasploit", "kali linux", "burp suite", "owasp", "hashing", "encryption",

    # Software Engineering Concepts
    "oop", "design patterns", "data structures", "algorithms", "version control", "unit testing", "agile", "scrum",

    # Other Skills
    "web scraping", "beautifulsoup", "selenium", "regex", "jwt", "oauth", "firebase", "sqlite3",

    # Soft/Business Skills (optional)
    "communication", "leadership", "teamwork", "project management", "time management"
]

def extract_skills(text):
    text = text.lower()
    skills_found = []
    for skill in SKILLS_DB:
        if re.search(r'\b' + re.escape(skill) + r'\b', text):
            skills_found.append(skill)
    return skills_found

file_path = "CV @ 20-05-2025.pdf"
text = extract_text_from_pdf(file_path)

skills_have = extract_skills(text)
print("Skills Found: ")
for skill in skills_have:
    print(skill)

#Part B

import spacy
from collections import defaultdict

nlp = spacy.load("en_core_web_sm")

def preprocess(text):
    doc = nlp(text.lower())
    tokens = [token.lemma_ for token in doc if token.is_alpha and not token.is_stop]
    return tokens

def match_skills(tokens, skill_db):
    matched = defaultdict(list)
    for category, skills in skill_db.items():
        for skill in skills:
            # Handle multi-word skills like "problem-solving"
            skill_tokens = skill.lower().split()
            if all(word in tokens for word in skill_tokens):
                matched[category].append(skill)
    return matched
skill_db = {
    # Programming Languages
    "programming languages": [
        "python", "java", "c", "c++", "c#", "javascript", "typescript", "go", "ruby", "kotlin",
        "swift", "scala", "rust", "php", "perl", "bash", "powershell", "dart", "elixir", "haskell", "objective-c"
    ],

    # Web Development
    "web development": [
        "html", "css", "javascript", "react", "angular", "vue", "node.js", "express.js", "next.js",
        "bootstrap", "tailwind css", "svelte", "jquery", "redux", "ember.js", "backbone.js"
    ],

    # Backend & Frameworks
    "backend & frameworks": [
        "django", "flask", "spring", "fastapi", "laravel", ".net", "asp.net", "rails", "grpc", "micronaut",
        "quarkus", "play framework", "vert.x"
    ],

    # Databases
    "databases": [
        "sql", "mysql", "postgresql", "oracle", "sqlite", "mongodb", "firebase", "redis", "cassandra",
        "dynamodb", "mariadb", "cockroachdb", "elasticsearch", "timescaledb"
    ],

    # DevOps & Tools
    "devops & tools": [
        "git", "github", "bitbucket", "gitlab", "docker", "kubernetes", "jenkins", "ansible",
        "terraform", "ci/cd", "circleci", "travis ci", "helm", "prometheus", "grafana", "nagios", "vault"
    ],

    # Operating Systems & Shell
    "operating systems & shell": [
        "linux", "bash", "unix", "windows", "powershell", "zsh", "fish"
    ],

    # Cloud Platforms
    "cloud platforms": [
        "aws", "azure", "google cloud", "gcp", "heroku", "netlify", "vercel", "digitalocean",
        "oracle cloud", "ibm cloud", "cloudflare"
    ],

    # Data Science & ML
    "data science & ml": [
        "numpy", "pandas", "matplotlib", "seaborn", "scikit-learn", "tensorflow", "keras", "pytorch",
        "xgboost", "statsmodels", "openai", "huggingface", "langchain", "llm", "transformers", "cv2",
        "opencv", "nlp", "spacy", "gensim", "fastai", "catboost", "lightgbm", "keras-tuner", "mlflow"
    ],

    # Data Engineering
    "data engineering": [
        "hadoop", "spark", "hive", "pig", "airflow", "kafka", "databricks", "snowflake", "presto",
        "flink", "storm", "apache beam", "delta lake"
    ],

    # Tools & Editors
    "tools & editors": [
        "vscode", "pycharm", "intellij", "jupyter", "colab", "postman", "swagger", "jira", "confluence",
        "selenium", "cypress", "circleci"
    ],

    # APIs
    "apis": [
        "rest", "graphql", "soap", "json", "xml", "websocket", "grpc", "openapi"
    ],

    # Cybersecurity
    "cybersecurity": [
        "nmap", "wireshark", "metasploit", "kali linux", "burp suite", "owasp", "hashing", "encryption",
        "jwt", "oauth", "saml", "mfa", "ssl", "tls", "penetration testing", "social engineering"
    ],

    # Software Engineering Concepts
    "software engineering concepts": [
        "oop", "design patterns", "data structures", "algorithms", "version control", "unit testing",
        "integration testing", "test driven development", "agile", "scrum", "kanban", "devsecops",
        "code review", "refactoring", "continuous integration"
    ],

    # Other Skills
    "other skills": [
        "web scraping", "beautifulsoup", "selenium", "regex", "jwt", "oauth", "firebase", "sqlite3",
        "pdf generation", "excel automation", "csv parsing", "email automation", "cron jobs", "logging"
    ],

    # Soft/Business Skills (optional)
    "soft/business skills": [
        "communication", "leadership", "teamwork", "project management", "time management",
        "conflict resolution", "critical thinking", "adaptability", "problem solving", "presentation skills"
    ]
}

job_description=input("Enter the job description: ")


tokens = preprocess(job_description)
matched_skills = match_skills(tokens, skill_db)

# Flatten all matched skills into a single list
all_skills = []
for skills in matched_skills.values():
    all_skills.extend(skills)

# Remove duplicates while preserving order
def remove_duplicates_preserve_order(seq):
    seen = set()
    return [x for x in seq if not (x in seen or seen.add(x))]

unique_skills = remove_duplicates_preserve_order(all_skills)

print("Matched Skills:")
print("\n ".join(unique_skills))


#PART C

matched_have = [skill for skill in unique_skills if skill in skills_have]
print("Skills you already have:", ", ".join(matched_have))

missing_skills = [skill for skill in unique_skills if skill not in skills_have]
print("Skills you need to learn:", ", ".join(missing_skills))


# Convert lists to sets for accurate intersection and uniqueness
skills_have_set = set(skills_have)
unique_skills_set = set(unique_skills)

# Find intersection (skills matched that you have)
matched_skills = skills_have_set.intersection(unique_skills_set)

# Calculate coverage percentage
if len(unique_skills_set) == 0:
    coverage = 0
else:
    coverage = (len(matched_skills) / len(unique_skills_set)) * 100

print(f"Coverage Percentage: {coverage:.2f}%")




